{
 "cells": [
  {
   "cell_type": "markdown",
   "id": "67524b2e-80be-401f-a25a-7d4cea5564e8",
   "metadata": {},
   "source": [
    "# Import packages"
   ]
  },
  {
   "cell_type": "code",
   "execution_count": 5,
   "id": "2969adf9-c3ea-473d-9c30-95e09b7e7be1",
   "metadata": {},
   "outputs": [],
   "source": [
    "import numpy as np\n",
    "import pandas as pd\n",
    "import matplotlib.pyplot as plt\n",
    "import math\n",
    "import seaborn as sns                                                   "
   ]
  },
  {
   "cell_type": "markdown",
   "id": "2b509223-285b-4827-8a8f-6d75e8dffeba",
   "metadata": {},
   "source": [
    "# Import files\n",
    "Import test and train files\n",
    "drop unnamed columns\n"
   ]
  },
  {
   "cell_type": "code",
   "execution_count": 6,
   "id": "5b74bd03-6005-4fbf-9cbc-54f1a0932d87",
   "metadata": {},
   "outputs": [
    {
     "data": {
      "text/html": [
       "<div>\n",
       "<style scoped>\n",
       "    .dataframe tbody tr th:only-of-type {\n",
       "        vertical-align: middle;\n",
       "    }\n",
       "\n",
       "    .dataframe tbody tr th {\n",
       "        vertical-align: top;\n",
       "    }\n",
       "\n",
       "    .dataframe thead th {\n",
       "        text-align: right;\n",
       "    }\n",
       "</style>\n",
       "<table border=\"1\" class=\"dataframe\">\n",
       "  <thead>\n",
       "    <tr style=\"text-align: right;\">\n",
       "      <th></th>\n",
       "      <th>Area</th>\n",
       "      <th>Perimeter</th>\n",
       "      <th>Major_Axis_Length</th>\n",
       "      <th>Minor_Axis_Length</th>\n",
       "      <th>Convex_Area</th>\n",
       "      <th>Equiv_Diameter</th>\n",
       "      <th>Eccentricity</th>\n",
       "      <th>Solidity</th>\n",
       "      <th>Extent</th>\n",
       "      <th>Roundness</th>\n",
       "      <th>Aspect_Ration</th>\n",
       "      <th>Compactness</th>\n",
       "      <th>Class</th>\n",
       "    </tr>\n",
       "  </thead>\n",
       "  <tbody>\n",
       "    <tr>\n",
       "      <th>0</th>\n",
       "      <td>84930</td>\n",
       "      <td>1204.448</td>\n",
       "      <td>508.7883</td>\n",
       "      <td>213.0266</td>\n",
       "      <td>85665</td>\n",
       "      <td>328.8407</td>\n",
       "      <td>0.9081</td>\n",
       "      <td>0.9914</td>\n",
       "      <td>0.5482</td>\n",
       "      <td>0.7357</td>\n",
       "      <td>2.3884</td>\n",
       "      <td>0.6463</td>\n",
       "      <td>Ürgüp Sivrisi</td>\n",
       "    </tr>\n",
       "    <tr>\n",
       "      <th>1</th>\n",
       "      <td>103343</td>\n",
       "      <td>1275.261</td>\n",
       "      <td>521.4694</td>\n",
       "      <td>252.8941</td>\n",
       "      <td>104156</td>\n",
       "      <td>362.7401</td>\n",
       "      <td>0.8745</td>\n",
       "      <td>0.9922</td>\n",
       "      <td>0.7457</td>\n",
       "      <td>0.7985</td>\n",
       "      <td>2.0620</td>\n",
       "      <td>0.6956</td>\n",
       "      <td>Ürgüp Sivrisi</td>\n",
       "    </tr>\n",
       "    <tr>\n",
       "      <th>2</th>\n",
       "      <td>98350</td>\n",
       "      <td>1269.539</td>\n",
       "      <td>526.2346</td>\n",
       "      <td>238.4702</td>\n",
       "      <td>99184</td>\n",
       "      <td>353.8688</td>\n",
       "      <td>0.8914</td>\n",
       "      <td>0.9916</td>\n",
       "      <td>0.5919</td>\n",
       "      <td>0.7668</td>\n",
       "      <td>2.2067</td>\n",
       "      <td>0.6725</td>\n",
       "      <td>Ürgüp Sivrisi</td>\n",
       "    </tr>\n",
       "    <tr>\n",
       "      <th>3</th>\n",
       "      <td>69517</td>\n",
       "      <td>1059.538</td>\n",
       "      <td>429.8407</td>\n",
       "      <td>206.8250</td>\n",
       "      <td>70493</td>\n",
       "      <td>297.5093</td>\n",
       "      <td>0.8766</td>\n",
       "      <td>0.9862</td>\n",
       "      <td>0.6623</td>\n",
       "      <td>0.7782</td>\n",
       "      <td>2.0783</td>\n",
       "      <td>0.6921</td>\n",
       "      <td>Çerçevelik</td>\n",
       "    </tr>\n",
       "    <tr>\n",
       "      <th>4</th>\n",
       "      <td>80011</td>\n",
       "      <td>1182.947</td>\n",
       "      <td>501.9065</td>\n",
       "      <td>204.7531</td>\n",
       "      <td>80902</td>\n",
       "      <td>319.1758</td>\n",
       "      <td>0.9130</td>\n",
       "      <td>0.9890</td>\n",
       "      <td>0.7374</td>\n",
       "      <td>0.7185</td>\n",
       "      <td>2.4513</td>\n",
       "      <td>0.6359</td>\n",
       "      <td>Ürgüp Sivrisi</td>\n",
       "    </tr>\n",
       "    <tr>\n",
       "      <th>...</th>\n",
       "      <td>...</td>\n",
       "      <td>...</td>\n",
       "      <td>...</td>\n",
       "      <td>...</td>\n",
       "      <td>...</td>\n",
       "      <td>...</td>\n",
       "      <td>...</td>\n",
       "      <td>...</td>\n",
       "      <td>...</td>\n",
       "      <td>...</td>\n",
       "      <td>...</td>\n",
       "      <td>...</td>\n",
       "      <td>...</td>\n",
       "    </tr>\n",
       "    <tr>\n",
       "      <th>1995</th>\n",
       "      <td>68292</td>\n",
       "      <td>982.052</td>\n",
       "      <td>368.6867</td>\n",
       "      <td>237.1654</td>\n",
       "      <td>68891</td>\n",
       "      <td>294.8764</td>\n",
       "      <td>0.7656</td>\n",
       "      <td>0.9913</td>\n",
       "      <td>0.7212</td>\n",
       "      <td>0.8898</td>\n",
       "      <td>1.5546</td>\n",
       "      <td>0.7998</td>\n",
       "      <td>Çerçevelik</td>\n",
       "    </tr>\n",
       "    <tr>\n",
       "      <th>1996</th>\n",
       "      <td>82272</td>\n",
       "      <td>1121.769</td>\n",
       "      <td>459.4482</td>\n",
       "      <td>228.2780</td>\n",
       "      <td>82865</td>\n",
       "      <td>323.6541</td>\n",
       "      <td>0.8678</td>\n",
       "      <td>0.9928</td>\n",
       "      <td>0.7321</td>\n",
       "      <td>0.8216</td>\n",
       "      <td>2.0127</td>\n",
       "      <td>0.7044</td>\n",
       "      <td>Ürgüp Sivrisi</td>\n",
       "    </tr>\n",
       "    <tr>\n",
       "      <th>1997</th>\n",
       "      <td>72049</td>\n",
       "      <td>1023.784</td>\n",
       "      <td>398.3945</td>\n",
       "      <td>230.5932</td>\n",
       "      <td>72732</td>\n",
       "      <td>302.8789</td>\n",
       "      <td>0.8155</td>\n",
       "      <td>0.9906</td>\n",
       "      <td>0.7638</td>\n",
       "      <td>0.8638</td>\n",
       "      <td>1.7277</td>\n",
       "      <td>0.7602</td>\n",
       "      <td>Çerçevelik</td>\n",
       "    </tr>\n",
       "    <tr>\n",
       "      <th>1998</th>\n",
       "      <td>73703</td>\n",
       "      <td>1065.980</td>\n",
       "      <td>422.3591</td>\n",
       "      <td>223.3923</td>\n",
       "      <td>74461</td>\n",
       "      <td>306.3357</td>\n",
       "      <td>0.8487</td>\n",
       "      <td>0.9898</td>\n",
       "      <td>0.6380</td>\n",
       "      <td>0.8151</td>\n",
       "      <td>1.8907</td>\n",
       "      <td>0.7253</td>\n",
       "      <td>Çerçevelik</td>\n",
       "    </tr>\n",
       "    <tr>\n",
       "      <th>1999</th>\n",
       "      <td>74525</td>\n",
       "      <td>1153.205</td>\n",
       "      <td>478.0779</td>\n",
       "      <td>200.0458</td>\n",
       "      <td>76573</td>\n",
       "      <td>308.0392</td>\n",
       "      <td>0.9082</td>\n",
       "      <td>0.9733</td>\n",
       "      <td>0.5578</td>\n",
       "      <td>0.7042</td>\n",
       "      <td>2.3898</td>\n",
       "      <td>0.6443</td>\n",
       "      <td>Ürgüp Sivrisi</td>\n",
       "    </tr>\n",
       "  </tbody>\n",
       "</table>\n",
       "<p>2000 rows × 13 columns</p>\n",
       "</div>"
      ],
      "text/plain": [
       "        Area  Perimeter  Major_Axis_Length  Minor_Axis_Length  Convex_Area  \\\n",
       "0      84930   1204.448           508.7883           213.0266        85665   \n",
       "1     103343   1275.261           521.4694           252.8941       104156   \n",
       "2      98350   1269.539           526.2346           238.4702        99184   \n",
       "3      69517   1059.538           429.8407           206.8250        70493   \n",
       "4      80011   1182.947           501.9065           204.7531        80902   \n",
       "...      ...        ...                ...                ...          ...   \n",
       "1995   68292    982.052           368.6867           237.1654        68891   \n",
       "1996   82272   1121.769           459.4482           228.2780        82865   \n",
       "1997   72049   1023.784           398.3945           230.5932        72732   \n",
       "1998   73703   1065.980           422.3591           223.3923        74461   \n",
       "1999   74525   1153.205           478.0779           200.0458        76573   \n",
       "\n",
       "      Equiv_Diameter  Eccentricity  Solidity  Extent  Roundness  \\\n",
       "0           328.8407        0.9081    0.9914  0.5482     0.7357   \n",
       "1           362.7401        0.8745    0.9922  0.7457     0.7985   \n",
       "2           353.8688        0.8914    0.9916  0.5919     0.7668   \n",
       "3           297.5093        0.8766    0.9862  0.6623     0.7782   \n",
       "4           319.1758        0.9130    0.9890  0.7374     0.7185   \n",
       "...              ...           ...       ...     ...        ...   \n",
       "1995        294.8764        0.7656    0.9913  0.7212     0.8898   \n",
       "1996        323.6541        0.8678    0.9928  0.7321     0.8216   \n",
       "1997        302.8789        0.8155    0.9906  0.7638     0.8638   \n",
       "1998        306.3357        0.8487    0.9898  0.6380     0.8151   \n",
       "1999        308.0392        0.9082    0.9733  0.5578     0.7042   \n",
       "\n",
       "      Aspect_Ration  Compactness          Class  \n",
       "0            2.3884       0.6463  Ürgüp Sivrisi  \n",
       "1            2.0620       0.6956  Ürgüp Sivrisi  \n",
       "2            2.2067       0.6725  Ürgüp Sivrisi  \n",
       "3            2.0783       0.6921     Çerçevelik  \n",
       "4            2.4513       0.6359  Ürgüp Sivrisi  \n",
       "...             ...          ...            ...  \n",
       "1995         1.5546       0.7998     Çerçevelik  \n",
       "1996         2.0127       0.7044  Ürgüp Sivrisi  \n",
       "1997         1.7277       0.7602     Çerçevelik  \n",
       "1998         1.8907       0.7253     Çerçevelik  \n",
       "1999         2.3898       0.6443  Ürgüp Sivrisi  \n",
       "\n",
       "[2000 rows x 13 columns]"
      ]
     },
     "execution_count": 6,
     "metadata": {},
     "output_type": "execute_result"
    }
   ],
   "source": [
    "path_train = \"C:\\\\CSE\\\\Logistic_regression\\\\Gotem Pumpkins.csv\"\n",
    "path_test=\"C:\\\\CSE\\\\Logistic_regression\\\\Freyja_Pumpkins.csv\"\n",
    "train_file = pd.read_csv(path_train)\n",
    "test_file = pd.read_csv(path_test)\n",
    "\n",
    "\n",
    "# Drop unnecessary columns \n",
    "train_file = train_file.drop(columns=[\"Unnamed: 0\"], errors=\"ignore\")\n",
    "test_file = test_file.drop(columns=[\"Unnamed: 0\"], errors=\"ignore\")\n",
    "train_file\n"
   ]
  },
  {
   "cell_type": "markdown",
   "id": "6fad7f6f-4786-462e-97b0-09c4631e4b99",
   "metadata": {},
   "source": [
    "# Categorize\n",
    "As there are two types of pumpkin categorise them into two types one represented by 1 and other 0.\n"
   ]
  },
  {
   "cell_type": "code",
   "execution_count": 7,
   "id": "a7ce8e59-9ce4-479d-bb16-5a469ea7f5e0",
   "metadata": {},
   "outputs": [],
   "source": [
    "train_file = pd.get_dummies(train_file,'Class',drop_first=True)\n",
    "test_file = pd.get_dummies(test_file,'Class',drop_first=True)\n",
    "Class = \"Class_Ürgüp Sivrisi\"\n",
    "train_file[Class] = train_file[Class].astype(int)\n",
    "test_file[Class] = test_file[Class].astype(int)"
   ]
  },
  {
   "cell_type": "markdown",
   "id": "2cb75a0d-0f13-4909-a4e1-f618f0dafad3",
   "metadata": {},
   "source": [
    "# Correlation\n",
    "It can be seen Convex_Area,Major_Axis_Length, Equiv_Diameter, Compactness, Perimeter have high corelation with Area so they can be dropped. \n",
    "while Aspect_Ration has low correlation with Class so it can be dropped"
   ]
  },
  {
   "cell_type": "code",
   "execution_count": 8,
   "id": "7c56e3ba-2dbf-42af-9782-99535b1ee06d",
   "metadata": {},
   "outputs": [
    {
     "data": {
      "image/png": "[encoded data removed]",
      "text/plain": [
       "<Figure size 800x600 with 2 Axes>"
      ]
     },
     "metadata": {},
     "output_type": "display_data"
    }
   ],
   "source": [
    "numeric_columns = train_file.select_dtypes(include=[np.number]).columns\n",
    "numeric_columns = train_file.columns\n",
    "train_file_numeric = train_file[numeric_columns]\n",
    "\n",
    "\n",
    "# Calculate the correlation matrix\n",
    "correlation_matrix = train_file_numeric.corr()\n",
    "plt.figure(figsize=(8, 6))  # Adjust the size of the plot\n",
    "sns.heatmap(correlation_matrix)\n",
    "plt.show()"
   ]
  },
  {
   "cell_type": "markdown",
   "id": "48ee6177-6b0e-4ced-950b-d4f23de3815f",
   "metadata": {},
   "source": [
    "# Drop irrelevant columns\n",
    "after dropping irrelevant column save features in X_train as a 2D array where columns correspond to feature.\n",
    "convert all datatype to Float to avoid error and loss of data during calculations and scale down.\n"
   ]
  },
  {
   "cell_type": "code",
   "execution_count": 9,
   "id": "6b6caf8d-952d-472c-95a1-0ae4b7791cdb",
   "metadata": {},
   "outputs": [
    {
     "name": "stdout",
     "output_type": "stream",
     "text": [
      "Y = Class_Ürgüp Sivrisi\n",
      "Features retained = ['Area', 'Minor_Axis_Length', 'Eccentricity', 'Solidity', 'Extent', 'Roundness']\n"
     ]
    }
   ],
   "source": [
    "columns_to_drop = ['Convex_Area','Equiv_Diameter','Compactness','Class_Ürgüp Sivrisi','Perimeter','Aspect_Ration','Major_Axis_Length']\n",
    "columns = train_file.columns\n",
    "columns = [item for item in columns if item not in columns_to_drop]\n",
    "\n",
    "# Define the target column\n",
    "y_columns = Class\n",
    "x_columns = columns\n",
    "print(f\"Y = {y_columns}\")\n",
    "print(f\"Features retained = {x_columns}\")\n",
    "\n",
    "x_train = train_file[x_columns].values        #store features as array of n dimension(n = number of feature)\n",
    "y_train = train_file[y_columns].values\n",
    "x_test = test_file[x_columns].values        \n",
    "y_test = test_file[y_columns].values\n",
    "\n",
    "x_train = x_train.astype(float)\n",
    "y_train = y_train.astype(float)\n",
    "x_test = x_test.astype(float)\n",
    "y_test = y_test.astype(float)"
   ]
  },
  {
   "cell_type": "markdown",
   "id": "a71a0d96-49ae-4663-9e73-6fdbc6af1472",
   "metadata": {},
   "source": [
    "# Scale down using Z score scaling \n",
    "-> X = (X - Mean(X))/ standard deviation(X)\n",
    "scale down both test and train data for uniformity.\n",
    "No need to scale down y_train and y_test as they need to retain binary values\n"
   ]
  },
  {
   "cell_type": "code",
   "execution_count": 10,
   "id": "0f175731-93d1-41bb-846b-124432af8ee9",
   "metadata": {},
   "outputs": [],
   "source": [
    "m = x_train.shape[1]\n",
    "for i in range(m):      \n",
    " x_train[:,i] = (x_train[:,i] - np.mean(x_train[:,i]))/np.std(x_train[:,i])\n",
    " \n",
    "m = x_test.shape[1]\n",
    "for i in range(m):  \n",
    " x_test[:,i] = (x_test[:,i] - np.mean(x_test[:,i]))/np.std(x_test[:,i])"
   ]
  },
  {
   "cell_type": "markdown",
   "id": "c0d03aa7-8e56-4e77-96c1-ca4234dcd1d2",
   "metadata": {},
   "source": [
    "## Initialize values"
   ]
  },
  {
   "cell_type": "code",
   "execution_count": 11,
   "id": "b0c5e3f5-cae5-4d5c-bed5-18176606cf68",
   "metadata": {},
   "outputs": [],
   "source": [
    "#initialise  {initialise w to zero array with elements equal to number of features..ie. column}\n",
    "m = x_train.shape[1]\n",
    "w = np.zeros(m)\n",
    "b = 0\n",
    "a = 0.001\n",
    "ite = 1000"
   ]
  },
  {
   "cell_type": "markdown",
   "id": "cece0792-25a5-4896-bc9e-e3eb00159e14",
   "metadata": {},
   "source": [
    "# Define Functions\n",
    "## Linear function\n",
    "defined as F = w*x + b \n",
    "## Sigmoid function\n",
    "defined as f = 1/(1+e^-z)"
   ]
  },
  {
   "cell_type": "code",
   "execution_count": 12,
   "id": "dcd171bf-fd8c-4230-bd49-ed31562af052",
   "metadata": {},
   "outputs": [],
   "source": [
    "def function(w,b,x):\n",
    "    f = np.dot(x,w)+b\n",
    "    return f\n",
    "\n",
    "def sigmoid_function(z):\n",
    "    z = np.clip(z, -500, 500) \n",
    "    return 1/(1+np.exp(-z))"
   ]
  },
  {
   "cell_type": "markdown",
   "id": "4f9d128a-906e-4a2c-a95c-86422a3bbecf",
   "metadata": {},
   "source": [
    "## Cost function\n",
    "using the simplified expression\n",
    "## Gradient Descent \n",
    "dot product used to decrease time taken"
   ]
  },
  {
   "cell_type": "code",
   "execution_count": 13,
   "id": "8c0e02d9-e34d-4005-af4b-64831fdac96c",
   "metadata": {},
   "outputs": [],
   "source": [
    "def cost_function(w,b,x,y):\n",
    "    n = len(y)\n",
    "    sum = 0\n",
    "    for i in range(n):\n",
    "        z= function(w,b,x[i])\n",
    "        sum = np.sum(y[i]*np.log(sigmoid_function(z)) + (1-y[i])*np.log(sigmoid_function(z)))\n",
    "    return (-1/n)* sum\n",
    "\n",
    "\n",
    "def gradient_descent(w, b, x, y, a, iteration):   \n",
    "    cost_his = []\n",
    "    for j in range(iteration):\n",
    "        dj_dw = np.zeros_like(w)  # Initialize gradient for w\n",
    "        dj_db = 0  # Initialize gradient for b\n",
    "        \n",
    "        z = function(w,b,x)\n",
    "        F = sigmoid_function(z)\n",
    "        dj_dw += np.dot((F - y),x)  \n",
    "        dj_db = np.sum(F - y)\n",
    "      \n",
    "        w = w - (1/m) * a * dj_dw\n",
    "        b = b - (1/m) * a * dj_db\n",
    "              \n",
    "    \n",
    "    \n",
    "    return w, b\n"
   ]
  },
  {
   "cell_type": "code",
   "execution_count": 14,
   "id": "a8941c0b-3300-45b2-b0f0-b605ebefe5ee",
   "metadata": {},
   "outputs": [
    {
     "name": "stdout",
     "output_type": "stream",
     "text": [
      "\n",
      "OUTPUT\n",
      "\n",
      "Final cost = 0.00017588994106912943\n",
      "Final value of Weights = [ 1.15954138 -1.28499619  1.4036612   0.53789333  0.08054157 -0.73560344],\n",
      "Bias = -0.11622179601549397\n",
      "Learning Rate = 0.001\n",
      "Itirations = 1000\n"
     ]
    }
   ],
   "source": [
    "# Run gradient descent aldorithm for ite no of iterations \n",
    "w, b = gradient_descent(w, b, x_train, y_train, a, ite)\n",
    "\n",
    "# Final output\n",
    "print(\"\\nOUTPUT\\n\")\n",
    "print(f\"Final cost = {cost_function(w,b,x_train,y_train)}\")\n",
    "print(f\"Final value of Weights = {w},\\nBias = {b}\\nLearning Rate = {a}\\nItirations = {ite}\")"
   ]
  },
  {
   "cell_type": "markdown",
   "id": "146d5c50-adf2-4a2e-b882-4fc26a4a4a64",
   "metadata": {},
   "source": [
    "# Accuracy of model\n",
    "Find accuracy of model against test and train data. Pridiction will be 1 if sigmoid function has value grater than 0.5. Kepping 0.5 as refernce line "
   ]
  },
  {
   "cell_type": "code",
   "execution_count": 15,
   "id": "6a3b6c52-3cf7-46cf-8944-21a73efccaf1",
   "metadata": {},
   "outputs": [],
   "source": [
    "def prediction(probabality):\n",
    "    return np.where(probabality>= 0.5,1,0)\n",
    "\n",
    "def accuracy(w,b,x,y):\n",
    "    n = len(y)\n",
    "    pred = prediction(sigmoid_function(function(w,b,x)))\n",
    "    correct =0\n",
    "    for i in range(n):\n",
    "        if pred[i] == y[i]:\n",
    "            correct+=1\n",
    "    return 100*correct/n"
   ]
  },
  {
   "cell_type": "code",
   "execution_count": 16,
   "id": "974ecce7-b27e-4410-b2d1-ba9ab9c3b6ac",
   "metadata": {},
   "outputs": [
    {
     "name": "stdout",
     "output_type": "stream",
     "text": [
      "Accuracy of model for train data= 86.7 %\n",
      "accuracy of model for test data = 89.0 %\n"
     ]
    }
   ],
   "source": [
    "\n",
    "print(f\"Accuracy of model for train data= {accuracy(w,b,x_train,y_train)} %\")\n",
    "\n",
    "print(f\"accuracy of model for test data = {accuracy(w,b,x_test,y_test)} %\")\n"
   ]
  }
 ],
 "metadata": {
  "kernelspec": {
   "display_name": "Python 3",
   "language": "python",
   "name": "python3"
  },
  "language_info": {
   "codemirror_mode": {
    "name": "ipython",
    "version": 3
   },
   "file_extension": ".py",
   "mimetype": "text/x-python",
   "name": "python",
   "nbconvert_exporter": "python",
   "pygments_lexer": "ipython3",
   "version": "3.13.1"
  }
 },
 "nbformat": 4,
 "nbformat_minor": 5
}
